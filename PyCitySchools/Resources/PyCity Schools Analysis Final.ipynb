{
 "cells": [
  {
   "cell_type": "code",
   "execution_count": null,
   "id": "20c73605",
   "metadata": {},
   "outputs": [],
   "source": [
    "# Dependencies and Setup\n",
    "import pandas as pd\n",
    "from pathlib import Path\n",
    "\n",
    "# File to Load (Remember to Change These)\n",
    "school_data_to_load = \"Resources/schools_complete.csv\"\n",
    "student_data_to_load = \"Resources/students_complete.csv\"\n",
    "\n",
    "# Read School and Student Data File and store into Pandas DataFrames\n",
    "school_data = pd.read_csv('schools_complete.csv')\n",
    "student_data = pd.read_csv('students_complete.csv')\n",
    "\n",
    "# Combine the data into a single dataset.  \n",
    "school_data_complete = pd.merge(student_data, school_data, how=\"left\", on=[\"school_name\", \"school_name\"])\n",
    "school_data_complete.head()"
   ]
  },
  {
   "cell_type": "markdown",
   "id": "a8804212",
   "metadata": {},
   "source": [
    "# District Summary"
   ]
  },
  {
   "cell_type": "code",
   "execution_count": null,
   "id": "81167252",
   "metadata": {},
   "outputs": [],
   "source": [
    "# Calculate the total number of schools\n",
    "total_schools = len(school_data_complete['school_name'].unique())"
   ]
  },
  {
   "cell_type": "code",
   "execution_count": null,
   "id": "dc4bf4d6",
   "metadata": {},
   "outputs": [],
   "source": [
    "# Calculate the total number of students\n",
    "total_students = len(school_data_complete['Student ID'].unique())"
   ]
  },
  {
   "cell_type": "code",
   "execution_count": null,
   "id": "14e59d4b",
   "metadata": {},
   "outputs": [],
   "source": [
    "# Calculate the total budget\n",
    "total_budget = school_data['budget'].sum()"
   ]
  },
  {
   "cell_type": "code",
   "execution_count": null,
   "id": "5a921774",
   "metadata": {},
   "outputs": [],
   "source": [
    "# Calculate the average math score\n",
    "average_math_score = school_data_complete['math_score'].mean()"
   ]
  },
  {
   "cell_type": "code",
   "execution_count": null,
   "id": "104f05ab",
   "metadata": {},
   "outputs": [],
   "source": [
    "# Calculate the average reading score\n",
    "average_reading_score = school_data_complete['reading_score'].mean()"
   ]
  },
  {
   "cell_type": "code",
   "execution_count": null,
   "id": "f6da9e97",
   "metadata": {},
   "outputs": [],
   "source": [
    "# Calculate the percentage of students who passed math\n",
    "passing_math = school_data_complete[school_data_complete['math_score'] >= 70]['math_score'].count()\n",
    "percent_passing_math = (passing_math/total_students) * 100"
   ]
  },
  {
   "cell_type": "code",
   "execution_count": null,
   "id": "69fc8328",
   "metadata": {},
   "outputs": [],
   "source": [
    "# Calculate the percentage of students who passed reading\n",
    "passing_reading = school_data_complete[school_data_complete['reading_score'] >= 70]['reading_score'].count()\n",
    "percent_passing_reading = (passing_reading/total_students) * 100"
   ]
  },
  {
   "cell_type": "code",
   "execution_count": null,
   "id": "0f8a87ab",
   "metadata": {},
   "outputs": [],
   "source": [
    "# Calculate the percentage of students who passed both math and reading\n",
    "overall_passing = school_data_complete[(school_data_complete['math_score'] >= 70) & (school_data_complete['reading_score'] >= 70)]['Student ID'].count()\n",
    "percent_overall_passing = (overall_passing/total_students) * 100"
   ]
  },
  {
   "cell_type": "code",
   "execution_count": null,
   "id": "7182b08f",
   "metadata": {},
   "outputs": [],
   "source": [
    "# Create a dataframe to store the district's key metrics\n",
    "district_summary_df = pd.DataFrame({\n",
    "    \"Total Schools\": [total_schools],\n",
    "    \"Total Students\": [total_students],\n",
    "    \"Total Budget\": [total_budget],\n",
    "    \"Average Math Score\": [average_math_score],\n",
    "    \"Average Reading Score\": [average_reading_score],\n",
    "    \"% Passing Math\": [percent_passing_math],\n",
    "    \"% Passing Reading\": [percent_passing_reading],\n",
    "    \"% Overall Passing\": [percent_overall_passing]\n",
    "})"
   ]
  },
  {
   "cell_type": "code",
   "execution_count": null,
   "id": "47b20147",
   "metadata": {},
   "outputs": [],
   "source": [
    "# Format the total budget and percentage columns\n",
    "district_summary_df['Total Budget'] = district_summary_df['Total Budget'].map(\"${:,.2f}\".format)\n",
    "district_summary_df['% Passing Math'] = district_summary_df['% Passing Math'].map(\"{:.2f}%\".format)\n",
    "district_summary_df['% Passing Reading'] = district_summary_df['% Passing Reading'].map(\"{:.2f}%\".format)\n",
    "district_summary_df['% Overall Passing'] = district_summary_df['% Overall Passing'].map(\"{:.2f}%\".format)\n",
    "\n",
    "district_summary_df"
   ]
  },
  {
   "cell_type": "markdown",
   "id": "6590b7db",
   "metadata": {},
   "source": [
    "# School Summary"
   ]
  },
  {
   "cell_type": "code",
   "execution_count": null,
   "id": "5c52c49a",
   "metadata": {},
   "outputs": [],
   "source": [
    "# Group the data by school name\n",
    "grouped_school_data = school_data_complete.groupby(['school_name'])"
   ]
  },
  {
   "cell_type": "code",
   "execution_count": null,
   "id": "3d9d6447",
   "metadata": {},
   "outputs": [],
   "source": [
    "# Calculate the total number of students per school\n",
    "total_students = grouped_school_data['Student ID'].count()"
   ]
  },
  {
   "cell_type": "code",
   "execution_count": null,
   "id": "43cb912a",
   "metadata": {},
   "outputs": [],
   "source": [
    "# Calculate the total school budget per school\n",
    "total_budget = grouped_school_data['budget'].mean()"
   ]
  },
  {
   "cell_type": "code",
   "execution_count": null,
   "id": "77146cd2",
   "metadata": {},
   "outputs": [],
   "source": [
    "# Calculate the per student budget per school\n",
    "per_student_budget = total_budget/total_students"
   ]
  },
  {
   "cell_type": "code",
   "execution_count": null,
   "id": "a24a3725",
   "metadata": {},
   "outputs": [],
   "source": [
    "# Calculate the average math score per school\n",
    "average_math_score = grouped_school_data['math_score'].mean()"
   ]
  },
  {
   "cell_type": "code",
   "execution_count": null,
   "id": "d8f8c5d4",
   "metadata": {},
   "outputs": [],
   "source": [
    "# Calculate the average reading score per school\n",
    "average_reading_score = grouped_school_data['reading_score'].mean()"
   ]
  },
  {
   "cell_type": "code",
   "execution_count": null,
   "id": "695307c2",
   "metadata": {},
   "outputs": [],
   "source": [
    "# Calculate the percentage of students who passed math per school\n",
    "passing_math = school_data_complete[school_data_complete['math_score'] >= 70].groupby(['school_name'])['math_score'].count()\n",
    "percent_passing_math = (passing_math/total_students) * 100"
   ]
  },
  {
   "cell_type": "code",
   "execution_count": null,
   "id": "e54ec25b",
   "metadata": {},
   "outputs": [],
   "source": [
    "# Calculate the percentage of students who passed reading per school\n",
    "passing_reading = school_data_complete[school_data_complete['reading_score'] >= 70].groupby(['school_name'])['reading_score'].count()\n",
    "percent_passing_reading = (passing_reading/total_students) * 100"
   ]
  },
  {
   "cell_type": "code",
   "execution_count": null,
   "id": "d1a67b08",
   "metadata": {},
   "outputs": [],
   "source": [
    "# Calculate the percentage of students who passed both math and reading per school\n",
    "overall_passing = school_data_complete[(school_data_complete['math_score'] >= 70) & (school_data_complete['reading_score'] >= 70)].groupby(['school_name'])['Student ID'].count()\n",
    "percent_overall_passing = (overall_passing/total_students) * 100"
   ]
  },
  {
   "cell_type": "code",
   "execution_count": null,
   "id": "86a13795",
   "metadata": {},
   "outputs": [],
   "source": [
    "# Get the school type\n",
    "school_type = school_data.set_index(['school_name'])['type']"
   ]
  },
  {
   "cell_type": "code",
   "execution_count": null,
   "id": "8d96270d",
   "metadata": {},
   "outputs": [],
   "source": [
    "# Create a dataframe to store the key metrics for each school\n",
    "per_school_summary_df = pd.DataFrame({\n",
    "    \"School Type\": school_type,\n",
    "    \"Total Students\": total_students,\n",
    "    \"Total School Budget\": total_budget,\n",
    "    \"Per Student Budget\": per_student_budget,\n",
    "    \"Average Math Score\": average_math_score,\n",
    "    \"Average Reading Score\": average_reading_score,\n",
    "    \"% Passing Math\": percent_passing_math,\n",
    "    \"% Passing Reading\": percent_passing_reading,\n",
    "    \"% Overall Passing\": percent_overall_passing\n",
    "})"
   ]
  },
  {
   "cell_type": "code",
   "execution_count": null,
   "id": "31483e2f",
   "metadata": {},
   "outputs": [],
   "source": [
    "# Format the budget and percentage columns\n",
    "per_school_summary_df['Total School Budget'] = per_school_summary_df['Total School Budget'].map(\"${:,.2f}\".format)\n",
    "per_school_summary_df['Per Student Budget'] = per_school_summary_df['Per Student Budget'].map(\"${:,.2f}\".format)\n",
    "per_school_summary_df['% Passing Math'] = per_school_summary_df['% Passing Math'].map(\"{:.2f}%\".format)\n",
    "per_school_summary_df['% Passing Reading'] = per_school_summary_df['% Passing Reading'].map(\"{:.2f}%\".format)\n",
    "per_school_summary_df['% Overall Passing'] = per_school_summary_df['% Overall Passing'].map(\"{:.2f}%\".format)\n",
    "\n",
    "per_school_summary_df"
   ]
  },
  {
   "cell_type": "markdown",
   "id": "15b79537",
   "metadata": {},
   "source": [
    "# Highest-Performing Schools (by % Overall Passing)"
   ]
  },
  {
   "cell_type": "code",
   "execution_count": null,
   "id": "d1655341",
   "metadata": {},
   "outputs": [],
   "source": [
    "# Sort the schools by % Overall Passing in descending order\n",
    "top_schools = per_school_summary_df.sort_values('% Overall Passing', ascending=False)"
   ]
  },
  {
   "cell_type": "code",
   "execution_count": null,
   "id": "d1a1ee87",
   "metadata": {},
   "outputs": [],
   "source": [
    "# Display the top 5 schools\n",
    "top_schools.head()"
   ]
  },
  {
   "cell_type": "markdown",
   "id": "7906e427",
   "metadata": {},
   "source": [
    "# Bottom Performing Schools (By % Overall Passing)"
   ]
  },
  {
   "cell_type": "code",
   "execution_count": null,
   "id": "c6b47ae0",
   "metadata": {},
   "outputs": [],
   "source": [
    "# Sort the schools by % Overall Passing in ascending order\n",
    "bottom_schools = per_school_summary_df.sort_values('% Overall Passing', ascending=True)"
   ]
  },
  {
   "cell_type": "code",
   "execution_count": null,
   "id": "d126b282",
   "metadata": {},
   "outputs": [],
   "source": [
    "# Display the bottom 5 schools\n",
    "bottom_schools.head()"
   ]
  },
  {
   "cell_type": "markdown",
   "id": "e523c54c",
   "metadata": {},
   "source": [
    "# Math Scores by Grade"
   ]
  },
  {
   "cell_type": "code",
   "execution_count": null,
   "id": "e3ed0334",
   "metadata": {},
   "outputs": [],
   "source": [
    "# Calculate average math score for each grade level at each school\n",
    "ninth_grade_math = student_data.loc[student_data[\"grade\"] == \"9th\"].groupby(\"school_name\")[\"math_score\"].mean()\n",
    "tenth_grade_math = student_data.loc[student_data[\"grade\"] == \"10th\"].groupby(\"school_name\")[\"math_score\"].mean()\n",
    "eleventh_grade_math = student_data.loc[student_data[\"grade\"] == \"11th\"].groupby(\"school_name\")[\"math_score\"].mean()\n",
    "twelfth_grade_math = student_data.loc[student_data[\"grade\"] == \"12th\"].groupby(\"school_name\")[\"math_score\"].mean()"
   ]
  },
  {
   "cell_type": "code",
   "execution_count": null,
   "id": "21f5eaee",
   "metadata": {},
   "outputs": [],
   "source": [
    "# Combine the series into a DataFrame\n",
    "math_scores_by_grade = pd.DataFrame({\n",
    "    \"9th\": ninth_grade_math,\n",
    "    \"10th\": tenth_grade_math,\n",
    "    \"11th\": eleventh_grade_math,\n",
    "    \"12th\": twelfth_grade_math\n",
    "})\n",
    "\n",
    "math_scores_by_grade.index.name = \"School Name\""
   ]
  },
  {
   "cell_type": "code",
   "execution_count": null,
   "id": "6938c453",
   "metadata": {},
   "outputs": [],
   "source": [
    "# Display the DataFrame\n",
    "math_scores_by_grade"
   ]
  },
  {
   "cell_type": "markdown",
   "id": "c39abdfe",
   "metadata": {},
   "source": [
    "# Reading Score by Grade"
   ]
  },
  {
   "cell_type": "code",
   "execution_count": null,
   "id": "e4edfdd7",
   "metadata": {},
   "outputs": [],
   "source": [
    "# Calculate average reading score for each grade level at each school\n",
    "ninth_grade_reading = student_data.loc[student_data[\"grade\"] == \"9th\"].groupby(\"school_name\")[\"reading_score\"].mean()\n",
    "tenth_grade_reading = student_data.loc[student_data[\"grade\"] == \"10th\"].groupby(\"school_name\")[\"reading_score\"].mean()\n",
    "eleventh_grade_reading = student_data.loc[student_data[\"grade\"] == \"11th\"].groupby(\"school_name\")[\"reading_score\"].mean()\n",
    "twelfth_grade_reading = student_data.loc[student_data[\"grade\"] == \"12th\"].groupby(\"school_name\")[\"reading_score\"].mean()"
   ]
  },
  {
   "cell_type": "code",
   "execution_count": null,
   "id": "33b3fe49",
   "metadata": {},
   "outputs": [],
   "source": [
    "# Combine the series into a DataFrame\n",
    "reading_scores_by_grade = pd.DataFrame({\n",
    "    \"9th\": ninth_grade_reading,\n",
    "    \"10th\": tenth_grade_reading,\n",
    "    \"11th\": eleventh_grade_reading,\n",
    "    \"12th\": twelfth_grade_reading\n",
    "})\n",
    "\n",
    "reading_scores_by_grade.index.name = \"School Name\""
   ]
  },
  {
   "cell_type": "code",
   "execution_count": null,
   "id": "bc548c4c",
   "metadata": {},
   "outputs": [],
   "source": [
    "# Display the DataFrame\n",
    "reading_scores_by_grade"
   ]
  },
  {
   "cell_type": "markdown",
   "id": "684bf3df",
   "metadata": {},
   "source": [
    "# Scores by School Spending"
   ]
  },
  {
   "cell_type": "code",
   "execution_count": null,
   "id": "3bdcf6ad",
   "metadata": {},
   "outputs": [],
   "source": [
    "# Create the bins and labels for the spending ranges\n",
    "spending_bins = [0, 585, 630, 645, 680]\n",
    "labels = [\"<$585\", \"$585-630\", \"$630-645\", \"$645-680\"]"
   ]
  },
  {
   "cell_type": "code",
   "execution_count": null,
   "id": "9c7c2df5",
   "metadata": {},
   "outputs": [],
   "source": [
    "# Slice the data and place it into bins\n",
    "school_data_complete[\"Spending Ranges (Per Student)\"] = pd.cut(school_data_complete[\"budget\"]/school_data_complete[\"size\"], spending_bins, labels=labels)"
   ]
  },
  {
   "cell_type": "code",
   "execution_count": null,
   "id": "116b28e1",
   "metadata": {},
   "outputs": [],
   "source": [
    "# Calculate the average math score, average reading score, % passing math, % passing reading, and % overall passing for each spending range\n",
    "spending_math_scores = school_data_complete.groupby(\"Spending Ranges (Per Student)\")[\"math_score\"].mean()\n",
    "spending_reading_scores = school_data_complete.groupby(\"Spending Ranges (Per Student)\")[\"reading_score\"].mean()\n",
    "spending_passing_math = school_data_complete[school_data_complete[\"math_score\"] >= 70].groupby(\"Spending Ranges (Per Student)\")[\"Student ID\"].count()/school_data_complete.groupby(\"Spending Ranges (Per Student)\")[\"Student ID\"].count()\n",
    "spending_passing_reading = school_data_complete[school_data_complete[\"reading_score\"] >= 70].groupby(\"Spending Ranges (Per Student)\")[\"Student ID\"].count()/school_data_complete.groupby(\"Spending Ranges (Per Student)\")[\"Student ID\"].count()\n",
    "overall_passing_spending = school_data_complete[(school_data_complete[\"math_score\"] >= 70) & (school_data_complete[\"reading_score\"] >= 70)].groupby(\"Spending Ranges (Per Student)\")[\"Student ID\"].count()/school_data_complete.groupby(\"Spending Ranges (Per Student)\")[\"Student ID\"].count()"
   ]
  },
  {
   "cell_type": "code",
   "execution_count": null,
   "id": "0df166c9",
   "metadata": {},
   "outputs": [],
   "source": [
    "# Combine the series into a DataFrame\n",
    "scores_by_spending = pd.DataFrame({\n",
    "    \"Average Math Score\": spending_math_scores,\n",
    "    \"Average Reading Score\": spending_reading_scores,\n",
    "    \"% Passing Math\": spending_passing_math * 100,\n",
    "    \"% Passing Reading\": spending_passing_reading * 100,\n",
    "    \"% Overall Passing\": overall_passing_spending * 100\n",
    "})\n",
    "\n",
    "scores_by_spending.index.name = \"Spending Ranges (Per Student)\""
   ]
  },
  {
   "cell_type": "code",
   "execution_count": null,
   "id": "2ac74e46",
   "metadata": {},
   "outputs": [],
   "source": [
    "# Display the DataFrame\n",
    "scores_by_spending"
   ]
  },
  {
   "cell_type": "markdown",
   "id": "2669725a",
   "metadata": {},
   "source": [
    "# Scores by School Size"
   ]
  },
  {
   "cell_type": "code",
   "execution_count": null,
   "id": "21bdbc61",
   "metadata": {},
   "outputs": [],
   "source": [
    "# # calculate per-school summary statistics\n",
    "# per_school_types = school_data.set_index([\"school_name\"])[\"type\"]\n",
    "# per_school_counts = school_data_complete[\"school_name\"].value_counts()\n",
    "# per_school_budget = school_data_complete.groupby([\"school_name\"]).mean(numeric_only=True)[\"budget\"]\n",
    "# per_school_capita = per_school_budget / per_school_counts\n",
    "# per_school_math = school_data_complete.groupby([\"school_name\"]).mean(numeric_only=True)[\"math_score\"]\n",
    "# per_school_reading = school_data_complete.groupby([\"school_name\"]).mean(numeric_only=True)[\"reading_score\"]\n",
    "# per_school_passing_math = school_data_complete[(school_data_complete[\"math_score\"] >= 70)]\n",
    "# per_school_passing_reading = school_data_complete[(school_data_complete[\"reading_score\"] >= 70)]\n",
    "# per_school_passing_math = per_school_passing_math.groupby([\"school_name\"]).count()[\"student_name\"] / per_school_counts * 100\n",
    "# per_school_passing_reading = per_school_passing_reading.groupby([\"school_name\"]).count()[\"student_name\"] / per_school_counts * 100\n",
    "# per_overall_passing_percentage = (per_school_passing_math + per_school_passing_reading) / 2"
   ]
  },
  {
   "cell_type": "code",
   "execution_count": null,
   "id": "03a2f340",
   "metadata": {},
   "outputs": [],
   "source": [
    "# # create per_school_summary DataFrame\n",
    "# per_school_summary = pd.DataFrame({\n",
    "#     \"School Type\": per_school_types,\n",
    "#     \"Total Students\": per_school_counts,\n",
    "#     \"Total School Budget\": per_school_budget,\n",
    "#     \"Per Student Budget\": per_school_capita,\n",
    "#     \"Average Math Score\": per_school_math,\n",
    "#     \"Average Reading Score\": per_school_reading,\n",
    "#     \"% Passing Math\": per_school_passing_math,\n",
    "#     \"% Passing Reading\": per_school_passing_reading,\n",
    "#     \"% Overall Passing\": per_overall_passing_percentage\n",
    "# })"
   ]
  },
  {
   "cell_type": "code",
   "execution_count": null,
   "id": "f5e8b52a",
   "metadata": {},
   "outputs": [],
   "source": [
    "# define size bins and labels\n",
    "size_bins = [0, 1000, 2000, 5000]\n",
    "size_labels = [\"Small (<1000)\", \"Medium (1000-2000)\", \"Large (2000-5000)\"]"
   ]
  },
  {
   "cell_type": "code",
   "execution_count": null,
   "id": "e4c64e9f",
   "metadata": {
    "scrolled": true
   },
   "outputs": [],
   "source": [
    "# Bin the Total Students column using pd.cut for all schools\n",
    "per_school_summary_df[\"School Size\"] = pd.cut(per_school_summary_df[\"Total Students\"], bins=size_bins, labels=size_labels)\n",
    "per_school_summary_df"
   ]
  },
  {
   "cell_type": "code",
   "execution_count": null,
   "id": "b96e9169",
   "metadata": {},
   "outputs": [],
   "source": [
    "# create size_summary DataFrame for all schools\n",
    "size_summary = per_school_summary_df.groupby(\"School Size\").agg({\n",
    "    \"Average Math Score\": \"mean\",\n",
    "    \"Average Reading Score\": \"mean\",\n",
    "    \"% Passing Math\": \"mean\",\n",
    "    \"% Passing Reading\": \"mean\",\n",
    "    \"% Overall Passing\": \"mean\"\n",
    "})"
   ]
  },
  {
   "cell_type": "code",
   "execution_count": null,
   "id": "4451796f",
   "metadata": {},
   "outputs": [],
   "source": [
    "# Display the size_summary DataFrame\n",
    "size_summary"
   ]
  },
  {
   "cell_type": "markdown",
   "id": "1bc663f7",
   "metadata": {},
   "source": [
    "# Scores by School Type"
   ]
  },
  {
   "cell_type": "code",
   "execution_count": null,
   "id": "fd231d58",
   "metadata": {},
   "outputs": [],
   "source": [
    "# Group the per_school_summary DataFrame by \"School Type\" and average the results.\n",
    "average_math_score_by_type = per_school_summary_df.groupby([\"School Type\"])[\"Average Math Score\"].mean()\n",
    "average_reading_score_by_type = per_school_summary_df.groupby([\"School Type\"])[\"Average Reading Score\"].mean()\n",
    "average_percent_passing_math_by_type = per_school_summary_df.groupby([\"School Type\"])[\"% Passing Math\"].mean()\n",
    "average_percent_passing_reading_by_type = per_school_summary_df.groupby([\"School Type\"])[\"% Passing Reading\"].mean()\n",
    "average_percent_overall_passing_by_type = per_school_summary_df.groupby([\"School Type\"])[\"% Overall Passing\"].mean()"
   ]
  },
  {
   "cell_type": "code",
   "execution_count": null,
   "id": "ebee4373",
   "metadata": {},
   "outputs": [],
   "source": [
    "type_summary = per_school_summary.groupby(\"School Type\").agg({\n",
    "    \"Average Math Score\": \"mean\",\n",
    "    \"Average Reading Score\": \"mean\",\n",
    "    \"% Passing Math\": \"mean\",\n",
    "    \"% Passing Reading\": \"mean\",\n",
    "    \"% Overall Passing\": \"mean\"\n",
    "})"
   ]
  },
  {
   "cell_type": "code",
   "execution_count": null,
   "id": "a6eaed95",
   "metadata": {},
   "outputs": [],
   "source": [
    "# Display results\n",
    "type_summary"
   ]
  }
 ],
 "metadata": {
  "kernelspec": {
   "display_name": "Python 3 (ipykernel)",
   "language": "python",
   "name": "python3"
  },
  "language_info": {
   "codemirror_mode": {
    "name": "ipython",
    "version": 3
   },
   "file_extension": ".py",
   "mimetype": "text/x-python",
   "name": "python",
   "nbconvert_exporter": "python",
   "pygments_lexer": "ipython3",
   "version": "3.10.9"
  }
 },
 "nbformat": 4,
 "nbformat_minor": 5
}
